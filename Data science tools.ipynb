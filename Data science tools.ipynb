{
 "cells": [
  {
   "cell_type": "markdown",
   "id": "25690e86",
   "metadata": {},
   "source": [
    "# Data science tools "
   ]
  },
  {
   "cell_type": "markdown",
   "id": "78cbb64d",
   "metadata": {},
   "source": [
    "## Data science tools are a collection of software and technologies designed to facilitate the prozess of analysing and visualising data. In this notebook we will categorized some of them."
   ]
  },
  {
   "cell_type": "markdown",
   "id": "bd44eedc",
   "metadata": {},
   "source": [
    "### Objectives:\n",
    "- List essential programming languages for Data Science\n",
    "- Some of libraries used by Data Scientists to analize, visualize data\n",
    "- Data Science Tools\n",
    "- Simple arithmetic expressions in PythonSie "
   ]
  },
  {
   "cell_type": "markdown",
   "id": "acd9011c",
   "metadata": {},
   "source": [
    "#### Let's delve into the essential programming languages that empower data scientists to analyze, visualize, and draw insights from data:\n",
    "- Python\n",
    "- R\n",
    "- Java\n",
    "- Scala\n",
    "- Julia\n",
    "- SQL"
   ]
  },
  {
   "cell_type": "markdown",
   "id": "347cc78e",
   "metadata": {},
   "source": [
    "#### Now that we have good understanding of the programming languages uset in data science, let's shift our focus to the powerful libraries that extend the capabilities of this languages:\n",
    "1. pandas\n",
    "2. numpy\n",
    "3. matplotlib"
   ]
  },
  {
   "cell_type": "markdown",
   "id": "8904d04e",
   "metadata": {},
   "source": [
    "#### Now we've covered the foundational aspects of data science, including languages and libraries, let's turn our attention on the indespensable tools of data science:\n",
    "|Relational Database|NoSql-Database|Tools used for bog data |\n",
    "|-----------------------|----------------|-------------------|\n",
    "|Mysql                  |MongoDB         |Apache hadoop |\n",
    "|Postgresql             |Apache CouchDB  |Apache spark  |"
   ]
  },
  {
   "cell_type": "markdown",
   "id": "4dee0699",
   "metadata": {},
   "source": [
    "#### Now we are going to practice some arithmitic operations in Python."
   ]
  },
  {
   "cell_type": "code",
   "execution_count": 12,
   "id": "8568fe61",
   "metadata": {},
   "outputs": [
    {
     "data": {
      "text/plain": [
       "45.0"
      ]
     },
     "execution_count": 12,
     "metadata": {},
     "output_type": "execute_result"
    }
   ],
   "source": [
    "#  This a simple arithmetic expression to divide then add integers\n",
    "a = (144/12)+33 \n",
    "a"
   ]
  },
  {
   "cell_type": "code",
   "execution_count": 11,
   "id": "d3963d51",
   "metadata": {},
   "outputs": [
    {
     "name": "stdout",
     "output_type": "stream",
     "text": [
      "write your number of minutes that you want convert to hours: 180\n",
      "your number of minutes correspond to 3.0 hours\n"
     ]
    }
   ],
   "source": [
    "# This operation will convert 180 minutes to hours by diving by 60\n",
    "\n",
    "minutes = input(\"write your number of minutes that you want convert to hours: \")\n",
    "hours = int(minutes)/60\n",
    "print(f\"your number of minutes correspond to {hours} hours\")"
   ]
  },
  {
   "cell_type": "markdown",
   "id": "e1cec2d5",
   "metadata": {},
   "source": [
    "## Autor solaiman karroumi"
   ]
  }
 ],
 "metadata": {
  "kernelspec": {
   "display_name": "Python 3 (ipykernel)",
   "language": "python",
   "name": "python3"
  },
  "language_info": {
   "codemirror_mode": {
    "name": "ipython",
    "version": 3
   },
   "file_extension": ".py",
   "mimetype": "text/x-python",
   "name": "python",
   "nbconvert_exporter": "python",
   "pygments_lexer": "ipython3",
   "version": "3.10.9"
  }
 },
 "nbformat": 4,
 "nbformat_minor": 5
}
